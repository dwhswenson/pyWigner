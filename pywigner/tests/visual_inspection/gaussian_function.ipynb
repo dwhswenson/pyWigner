{
 "cells": [
  {
   "cell_type": "code",
   "execution_count": null,
   "metadata": {
    "collapsed": false
   },
   "outputs": [],
   "source": [
    "%matplotlib inline\n",
    "import matplotlib.pyplot as plt\n",
    "import numpy as np\n",
    "import pywigner as lsc\n",
    "gaussian = lsc.tools.GaussianFunction(x0=[0.0, 3.0], alpha=[1.0, 2.0])\n",
    "gauss_x = lsc.tools.GaussianFunction(x0=[0.0], alpha=[1.0])\n",
    "gauss_y = lsc.tools.GaussianFunction(x0=[3.0], alpha=[2.0])"
   ]
  },
  {
   "cell_type": "code",
   "execution_count": null,
   "metadata": {
    "collapsed": false
   },
   "outputs": [],
   "source": [
    "samples = [gaussian.draw_sample() for i in range(10000)]\n",
    "x_vals = [x[0] for x in samples]\n",
    "y_vals = [y[1] for y in samples]"
   ]
  },
  {
   "cell_type": "code",
   "execution_count": null,
   "metadata": {
    "collapsed": true
   },
   "outputs": [],
   "source": [
    "def midpt(hist):\n",
    "    return np.array([0.5*(hist[1][i]+hist[1][i+1]) for i in range(len(hist[1])-1)])"
   ]
  },
  {
   "cell_type": "code",
   "execution_count": null,
   "metadata": {
    "collapsed": true
   },
   "outputs": [],
   "source": [
    "hist_x = np.histogram(x_vals, bins=40, normed=True)\n",
    "hist_y = np.histogram(y_vals, bins=40, normed=True)"
   ]
  },
  {
   "cell_type": "code",
   "execution_count": null,
   "metadata": {
    "collapsed": false
   },
   "outputs": [],
   "source": [
    "exact_x = np.exp(-1.0*(midpt(hist_x)-0.0)**2) / np.sqrt(3.14159)\n",
    "exact_y = np.exp(-2.0*(midpt(hist_y)-3.0)**2) / np.sqrt(3.14159/2.0)"
   ]
  },
  {
   "cell_type": "code",
   "execution_count": null,
   "metadata": {
    "collapsed": false
   },
   "outputs": [],
   "source": [
    "fcn_x = [gauss_x(np.array([x])) for x in midpt(hist_x)]\n",
    "fcn_y = [gauss_y(np.array([x])) for x in midpt(hist_y)]"
   ]
  },
  {
   "cell_type": "code",
   "execution_count": null,
   "metadata": {
    "collapsed": false,
    "scrolled": true
   },
   "outputs": [],
   "source": [
    "plt.plot(midpt(hist_x), hist_x[0])\n",
    "plt.plot(midpt(hist_x), exact_x)\n",
    "plt.plot(midpt(hist_x), fcn_x)"
   ]
  },
  {
   "cell_type": "code",
   "execution_count": null,
   "metadata": {
    "collapsed": false
   },
   "outputs": [],
   "source": [
    "plt.plot(midpt(hist_y), hist_y[0])\n",
    "plt.plot(midpt(hist_y), exact_y)\n",
    "plt.plot(midpt(hist_y), fcn_y)"
   ]
  }
 ],
 "metadata": {
  "kernelspec": {
   "display_name": "Python 2",
   "language": "python",
   "name": "python2"
  },
  "language_info": {
   "codemirror_mode": {
    "name": "ipython",
    "version": 2
   },
   "file_extension": ".py",
   "mimetype": "text/x-python",
   "name": "python",
   "nbconvert_exporter": "python",
   "pygments_lexer": "ipython2",
   "version": "2.7.11"
  }
 },
 "nbformat": 4,
 "nbformat_minor": 0
}
