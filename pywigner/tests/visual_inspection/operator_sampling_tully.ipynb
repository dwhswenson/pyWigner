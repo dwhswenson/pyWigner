{
 "cells": [
  {
   "cell_type": "code",
   "execution_count": null,
   "metadata": {
    "collapsed": true
   },
   "outputs": [],
   "source": [
    "%matplotlib inline\n",
    "import matplotlib.pyplot as plt\n",
    "import numpy as np\n",
    "import pywigner as lsc\n",
    "import dynamiq_engine as dynq\n",
    "import dynamiq_engine.potentials as pes"
   ]
  },
  {
   "cell_type": "code",
   "execution_count": null,
   "metadata": {
    "collapsed": false
   },
   "outputs": [],
   "source": [
    "tully_V11 = pes.OneDimensionalInteractionModel(\n",
    "    pes.interactions.TanhInteraction(a=1.6, V0=0.1)\n",
    ")\n",
    "tully_V22 = pes.OneDimensionalInteractionModel(\n",
    "    pes.interactions.TanhInteraction(a=1.6, V0=-0.1)\n",
    ")\n",
    "tully_V12 = pes.OneDimensionalInteractionModel(\n",
    "    pes.interactions.GaussianInteraction(A=0.05, alpha=1.0)\n",
    ")\n",
    "tully_matrix = dynq.NonadiabaticMatrix([[tully_V11, tully_V12],\n",
    "                                        [tully_V12, tully_V22]])\n",
    "tully = pes.MMSTHamiltonian(tully_matrix)\n",
    "tully_topology = dynq.Topology(\n",
    "    masses=np.array([1980.0]),\n",
    "    potential=tully\n",
    ")"
   ]
  },
  {
   "cell_type": "code",
   "execution_count": null,
   "metadata": {
    "collapsed": false
   },
   "outputs": [],
   "source": [
    "nuclear = lsc.operators.CoherentProjection(\n",
    "    x0=[-5.0],\n",
    "    p0=[19.0],\n",
    "    gamma=[1.0]\n",
    ")\n",
    "electronic = lsc.operators.ElectronicCoherentProjection.with_n_dofs(2).excite(dof=1)"
   ]
  },
  {
   "cell_type": "code",
   "execution_count": null,
   "metadata": {
    "collapsed": true
   },
   "outputs": [],
   "source": [
    "tully_A_op = nuclear * electronic"
   ]
  },
  {
   "cell_type": "code",
   "execution_count": null,
   "metadata": {
    "collapsed": true
   },
   "outputs": [],
   "source": [
    "tully_sampler = tully_A_op.default_sampler()"
   ]
  },
  {
   "cell_type": "code",
   "execution_count": null,
   "metadata": {
    "collapsed": false
   },
   "outputs": [],
   "source": [
    "snap = dynq.MMSTSnapshot(\n",
    "    coordinates=np.array([-5.0]),\n",
    "    momenta=np.array([19.0]),\n",
    "    electronic_coordinates=np.array([0.0, 0.0]),\n",
    "    electronic_momenta=np.array([0.0,0.0]),\n",
    "    topology=tully_topology\n",
    ")"
   ]
  },
  {
   "cell_type": "code",
   "execution_count": null,
   "metadata": {
    "collapsed": false
   },
   "outputs": [],
   "source": [
    "# do 10k samples\n",
    "samples = []\n",
    "old_snap = snap\n",
    "for i in range(10000):\n",
    "    new_snap = tully_sampler.generate_initial_snapshot(old_snap)\n",
    "    samples.append(new_snap)\n",
    "    old_snap = new_snap"
   ]
  },
  {
   "cell_type": "code",
   "execution_count": null,
   "metadata": {
    "collapsed": true
   },
   "outputs": [],
   "source": [
    "hist_R = np.histogram([s.coordinates[0] for s in samples], bins=40, normed=True)\n",
    "hist_P = np.histogram([s.momenta[0] for s in samples], bins=40, normed=True)\n",
    "hist_x1 = np.histogram([s.electronic_coordinates[0] for s in samples], bins=40, normed=True)\n",
    "hist_x2 = np.histogram([s.electronic_coordinates[1] for s in samples], bins=40, normed=True)\n",
    "hist_p1 = np.histogram([s.electronic_momenta[0] for s in samples], bins=40, normed=True)\n",
    "hist_p2 = np.histogram([s.electronic_momenta[1] for s in samples], bins=40, normed=True)"
   ]
  },
  {
   "cell_type": "code",
   "execution_count": null,
   "metadata": {
    "collapsed": false
   },
   "outputs": [],
   "source": [
    "def midpt(hist):\n",
    "    return np.array([0.5*(hist[1][i]+hist[1][i+1]) for i in range(len(hist[1])-1)])"
   ]
  },
  {
   "cell_type": "code",
   "execution_count": null,
   "metadata": {
    "collapsed": true
   },
   "outputs": [],
   "source": [
    "class NormedGaussian(object):\n",
    "    def __init__(self, alpha, x0):\n",
    "        self.alpha = alpha\n",
    "        self.x0 = x0\n",
    "    \n",
    "    def __call__(self, x):\n",
    "        return np.sqrt(self.alpha / np.pi) * np.exp(-self.alpha * (x-self.x0)**2)"
   ]
  },
  {
   "cell_type": "code",
   "execution_count": null,
   "metadata": {
    "collapsed": false
   },
   "outputs": [],
   "source": [
    "gaussR = NormedGaussian(alpha=1.0, x0=-5.0)\n",
    "R = midpt(hist_R)\n",
    "plt.plot(R, hist_R[0])\n",
    "plt.plot(R, gaussR(R))"
   ]
  },
  {
   "cell_type": "code",
   "execution_count": null,
   "metadata": {
    "collapsed": false
   },
   "outputs": [],
   "source": [
    "gaussP = NormedGaussian(alpha=1.0, x0=19.0)\n",
    "P = midpt(hist_P)\n",
    "plt.plot(P, hist_P[0])\n",
    "plt.plot(P, gaussP(P))"
   ]
  },
  {
   "cell_type": "code",
   "execution_count": null,
   "metadata": {
    "collapsed": false
   },
   "outputs": [],
   "source": [
    "gaussx1 = NormedGaussian(alpha=1.0, x0=0.0)\n",
    "x1 = midpt(hist_x1)\n",
    "plt.plot(x1, hist_x1[0])\n",
    "plt.plot(x1, gaussx1(x1))"
   ]
  },
  {
   "cell_type": "code",
   "execution_count": null,
   "metadata": {
    "collapsed": false
   },
   "outputs": [],
   "source": [
    "gaussx2 = NormedGaussian(alpha=1.0, x0=0.0)\n",
    "x2 = midpt(hist_x2)\n",
    "plt.plot(x2, hist_x2[0])\n",
    "plt.plot(x2, gaussx2(x2))"
   ]
  },
  {
   "cell_type": "code",
   "execution_count": null,
   "metadata": {
    "collapsed": false
   },
   "outputs": [],
   "source": [
    "gaussp1 = NormedGaussian(alpha=1.0, x0=0.0)\n",
    "p1 = midpt(hist_p1)\n",
    "plt.plot(p1, hist_p1[0])\n",
    "plt.plot(p1, gaussp1(p1))"
   ]
  },
  {
   "cell_type": "code",
   "execution_count": null,
   "metadata": {
    "collapsed": false
   },
   "outputs": [],
   "source": [
    "gaussp2 = NormedGaussian(alpha=1.0, x0=0.0)\n",
    "p2 = midpt(hist_p2)\n",
    "plt.plot(p2, hist_p2[0])\n",
    "plt.plot(p2, gaussp2(p2))"
   ]
  },
  {
   "cell_type": "code",
   "execution_count": null,
   "metadata": {
    "collapsed": true
   },
   "outputs": [],
   "source": []
  }
 ],
 "metadata": {
  "kernelspec": {
   "display_name": "Python 2",
   "language": "python",
   "name": "python2"
  },
  "language_info": {
   "codemirror_mode": {
    "name": "ipython",
    "version": 2
   },
   "file_extension": ".py",
   "mimetype": "text/x-python",
   "name": "python",
   "nbconvert_exporter": "python",
   "pygments_lexer": "ipython2",
   "version": "2.7.11"
  }
 },
 "nbformat": 4,
 "nbformat_minor": 0
}
